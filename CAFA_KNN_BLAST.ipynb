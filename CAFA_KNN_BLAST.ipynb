{
  "nbformat": 4,
  "nbformat_minor": 0,
  "metadata": {
    "colab": {
      "provenance": []
    },
    "kernelspec": {
      "name": "python3",
      "display_name": "Python 3"
    },
    "language_info": {
      "name": "python"
    }
  },
  "cells": [
    {
      "cell_type": "code",
      "execution_count": null,
      "metadata": {
        "colab": {
          "base_uri": "https://localhost:8080/"
        },
        "id": "UBJhKUSWOpIh",
        "outputId": "42004d56-190b-4875-87f2-409256b2afa0"
      },
      "outputs": [
        {
          "output_type": "stream",
          "name": "stdout",
          "text": [
            "Requirement already satisfied: bio in /usr/local/lib/python3.10/dist-packages (1.6.2)\n",
            "Requirement already satisfied: biopython>=1.80 in /usr/local/lib/python3.10/dist-packages (from bio) (1.83)\n",
            "Requirement already satisfied: requests in /usr/local/lib/python3.10/dist-packages (from bio) (2.31.0)\n",
            "Requirement already satisfied: tqdm in /usr/local/lib/python3.10/dist-packages (from bio) (4.66.2)\n",
            "Requirement already satisfied: mygene in /usr/local/lib/python3.10/dist-packages (from bio) (3.2.2)\n",
            "Requirement already satisfied: pandas in /usr/local/lib/python3.10/dist-packages (from bio) (1.5.3)\n",
            "Requirement already satisfied: pooch in /usr/local/lib/python3.10/dist-packages (from bio) (1.8.1)\n",
            "Requirement already satisfied: gprofiler-official in /usr/local/lib/python3.10/dist-packages (from bio) (1.0.0)\n",
            "Requirement already satisfied: numpy in /usr/local/lib/python3.10/dist-packages (from biopython>=1.80->bio) (1.25.2)\n",
            "Requirement already satisfied: biothings-client>=0.2.6 in /usr/local/lib/python3.10/dist-packages (from mygene->bio) (0.3.1)\n",
            "Requirement already satisfied: python-dateutil>=2.8.1 in /usr/local/lib/python3.10/dist-packages (from pandas->bio) (2.8.2)\n",
            "Requirement already satisfied: pytz>=2020.1 in /usr/local/lib/python3.10/dist-packages (from pandas->bio) (2023.4)\n",
            "Requirement already satisfied: platformdirs>=2.5.0 in /usr/local/lib/python3.10/dist-packages (from pooch->bio) (4.2.0)\n",
            "Requirement already satisfied: packaging>=20.0 in /usr/local/lib/python3.10/dist-packages (from pooch->bio) (24.0)\n",
            "Requirement already satisfied: charset-normalizer<4,>=2 in /usr/local/lib/python3.10/dist-packages (from requests->bio) (3.3.2)\n",
            "Requirement already satisfied: idna<4,>=2.5 in /usr/local/lib/python3.10/dist-packages (from requests->bio) (3.6)\n",
            "Requirement already satisfied: urllib3<3,>=1.21.1 in /usr/local/lib/python3.10/dist-packages (from requests->bio) (2.0.7)\n",
            "Requirement already satisfied: certifi>=2017.4.17 in /usr/local/lib/python3.10/dist-packages (from requests->bio) (2024.2.2)\n",
            "Requirement already satisfied: six>=1.5 in /usr/local/lib/python3.10/dist-packages (from python-dateutil>=2.8.1->pandas->bio) (1.16.0)\n"
          ]
        }
      ],
      "source": [
        "!pip install bio"
      ]
    },
    {
      "cell_type": "markdown",
      "source": [
        "#Blast KNN Implementation\n",
        "\n",
        "BLAST is abbreviated to Basic Local Alignment Search Tool, which is used to find the regions of similarity between biological sequences.\n",
        "\n",
        "Biopython library provides Bio.Blast module to deal with the NCBI BLAST operation.\n",
        "\n",
        "The concept behind the Blast KNN involves the process of finding the homologous proteins (proteins with similar sequences) that have already been characterized and annoted with GO terms. This works under the assumption that proteins with similar sequences have similar functions and thus share GO terms\n",
        "\n",
        "**Step by Step process**\n",
        "\n",
        "**Step 1: Sequence Alignment with BLAST:**\n",
        "\n",
        "  **-->Input your query protein sequence:** This is the sequence for which the GO terms need to be predicted.\n",
        "\n",
        "  **-->Run BLAST:** The BLAST (Basic Local Alignment Search Tool) is used to compare the query sequence against a database of known protein sequences. For this non-redundant (nr) database is used from NCBI.\n",
        "\n",
        "  **-->Retrieve homologous sequences:** BLAST returns a list of homologous sequences ranked by their similarity to the query sequence, using metrics such as E-values and bit-scores.\n",
        "\n",
        "\n",
        "**Step 2: Collect GO Annotations:**\n",
        "\n",
        "\n",
        "  **-->Identify homologous proteins with known GO terms:** From the BLAST results, identify proteins that are well-characterized and have GO term annotations.\n",
        "\n",
        "  **-->Extract GO terms:** The GO terms for these homologous proteins can often be found in the same database from which the sequences were retrieved or through linked databases such as UniProt or NCBI Gene.\n",
        "\n",
        "\n",
        "**Step 3: Assign GO Terms to the Query Sequence:**\n",
        "\n",
        "  **-->Aggregate GO terms from homologs:** Compile the GO terms from all significant homologs. The significance is usually determined by a threshold E-value,which is set as 0.001 here and this indicates the probability that the sequence alignment occurred by chance. Only matches below this threshold are considered.\n",
        "\n",
        "  **-->Score GO terms:** Optionally, score the GO terms based on the degree of similarity to the query sequence. This could involve simple counting, weighting terms by the similarity score of the homolog, or using more sophisticated statistical methods.\n",
        "\n",
        "  **-->Predict GO terms:** Assign GO terms to the query sequence based on the aggregated information. For instance, terms that are common among the most similar homologs might be assigned to the query protein.\n",
        "\n",
        "**Step 4: Evaluate and Refine:**\n",
        "\n",
        "  **-->Evaluate predictions:** If you have a set of proteins with known GO annotations, you can evaluate the accuracy of your predictions against this \"gold standard.\"\n",
        "\n",
        "  **-->Refine the method:** Depending on the evaluation, you may adjust your method, such as changing the E-value threshold, incorporating more databases, or improving how you score and choose GO terms."
      ],
      "metadata": {
        "id": "rcg-h4izO2Xe"
      }
    },
    {
      "cell_type": "code",
      "source": [
        "from Bio.Blast import NCBIWWW\n",
        "from Bio.Blast import NCBIXML"
      ],
      "metadata": {
        "id": "9ZzCPzx_O3OK"
      },
      "execution_count": null,
      "outputs": []
    },
    {
      "cell_type": "code",
      "source": [
        "import numpy as np\n",
        "import pandas as pd\n",
        "import matplotlib.pyplot as plt\n",
        "import seaborn as sns\n",
        "from tqdm import tqdm\n",
        "import os\n",
        "import random"
      ],
      "metadata": {
        "id": "Zvx1bVyTUF8s"
      },
      "execution_count": null,
      "outputs": []
    },
    {
      "cell_type": "code",
      "source": [
        "annotated_proteins=pd.read_csv('protein_data.csv')\n",
        "annotated_proteins.head()"
      ],
      "metadata": {
        "colab": {
          "base_uri": "https://localhost:8080/",
          "height": 538
        },
        "id": "8Iy-f-wWUmaa",
        "outputId": "99ad3aba-40ed-4a7d-d729-df0eb3a887c4"
      },
      "execution_count": null,
      "outputs": [
        {
          "output_type": "stream",
          "name": "stderr",
          "text": [
            "<ipython-input-14-3f61e447ed99>:1: DtypeWarning: Columns (0,3) have mixed types. Specify dtype option on import or set low_memory=False.\n",
            "  annotated_proteins=pd.read_csv('protein_data.csv')\n"
          ]
        },
        {
          "output_type": "execute_result",
          "data": {
            "text/plain": [
              "  Unnamed: 0     EntryID                                           sequence  \\\n",
              "0          0      P20536  MNSVTVSHAPYTITYHDDWEPVMSQLVEFYNEVASWLLRDETSPIP...   \n",
              "1          1      O73864  MTEYRNFLLLFITSLSVIYPCTGISWLGLTINGSSVGWNQTHHCKL...   \n",
              "2          2      O95231  MRLSSSPPRGPQQLSSFGSVDWLSQSSCSGPTHTPRPADFSLGSLP...   \n",
              "3          3  A0A0B4J1F4  MGGEAGADGPRGRVKSLGLVFEDESKGCYSSGETVAGHVLLEAAEP...   \n",
              "4          4      P54366  MVETNSPPAGYTLKRSPSDLGEQQQPPRQISRSPGNTAAYHLTTAM...   \n",
              "\n",
              "  organism_id  taxonomyID                                               term  \n",
              "0       10249     10249.0  GO:0008152, GO:0071897, GO:0044249, GO:0006259...  \n",
              "1        7955      7955.0  GO:0061371, GO:0048589, GO:0051641, GO:0048856...  \n",
              "2        9606      9606.0  GO:0006357, GO:0010557, GO:0045935, GO:0065007...  \n",
              "3       10090     10090.0  GO:0008152, GO:0051234, GO:0036211, GO:0070727...  \n",
              "4        7227      7227.0  GO:0005622, GO:0043229, GO:0043226, GO:0110165...  "
            ],
            "text/html": [
              "\n",
              "  <div id=\"df-92a3362c-64fa-4798-91c7-3393d99b1b92\" class=\"colab-df-container\">\n",
              "    <div>\n",
              "<style scoped>\n",
              "    .dataframe tbody tr th:only-of-type {\n",
              "        vertical-align: middle;\n",
              "    }\n",
              "\n",
              "    .dataframe tbody tr th {\n",
              "        vertical-align: top;\n",
              "    }\n",
              "\n",
              "    .dataframe thead th {\n",
              "        text-align: right;\n",
              "    }\n",
              "</style>\n",
              "<table border=\"1\" class=\"dataframe\">\n",
              "  <thead>\n",
              "    <tr style=\"text-align: right;\">\n",
              "      <th></th>\n",
              "      <th>Unnamed: 0</th>\n",
              "      <th>EntryID</th>\n",
              "      <th>sequence</th>\n",
              "      <th>organism_id</th>\n",
              "      <th>taxonomyID</th>\n",
              "      <th>term</th>\n",
              "    </tr>\n",
              "  </thead>\n",
              "  <tbody>\n",
              "    <tr>\n",
              "      <th>0</th>\n",
              "      <td>0</td>\n",
              "      <td>P20536</td>\n",
              "      <td>MNSVTVSHAPYTITYHDDWEPVMSQLVEFYNEVASWLLRDETSPIP...</td>\n",
              "      <td>10249</td>\n",
              "      <td>10249.0</td>\n",
              "      <td>GO:0008152, GO:0071897, GO:0044249, GO:0006259...</td>\n",
              "    </tr>\n",
              "    <tr>\n",
              "      <th>1</th>\n",
              "      <td>1</td>\n",
              "      <td>O73864</td>\n",
              "      <td>MTEYRNFLLLFITSLSVIYPCTGISWLGLTINGSSVGWNQTHHCKL...</td>\n",
              "      <td>7955</td>\n",
              "      <td>7955.0</td>\n",
              "      <td>GO:0061371, GO:0048589, GO:0051641, GO:0048856...</td>\n",
              "    </tr>\n",
              "    <tr>\n",
              "      <th>2</th>\n",
              "      <td>2</td>\n",
              "      <td>O95231</td>\n",
              "      <td>MRLSSSPPRGPQQLSSFGSVDWLSQSSCSGPTHTPRPADFSLGSLP...</td>\n",
              "      <td>9606</td>\n",
              "      <td>9606.0</td>\n",
              "      <td>GO:0006357, GO:0010557, GO:0045935, GO:0065007...</td>\n",
              "    </tr>\n",
              "    <tr>\n",
              "      <th>3</th>\n",
              "      <td>3</td>\n",
              "      <td>A0A0B4J1F4</td>\n",
              "      <td>MGGEAGADGPRGRVKSLGLVFEDESKGCYSSGETVAGHVLLEAAEP...</td>\n",
              "      <td>10090</td>\n",
              "      <td>10090.0</td>\n",
              "      <td>GO:0008152, GO:0051234, GO:0036211, GO:0070727...</td>\n",
              "    </tr>\n",
              "    <tr>\n",
              "      <th>4</th>\n",
              "      <td>4</td>\n",
              "      <td>P54366</td>\n",
              "      <td>MVETNSPPAGYTLKRSPSDLGEQQQPPRQISRSPGNTAAYHLTTAM...</td>\n",
              "      <td>7227</td>\n",
              "      <td>7227.0</td>\n",
              "      <td>GO:0005622, GO:0043229, GO:0043226, GO:0110165...</td>\n",
              "    </tr>\n",
              "  </tbody>\n",
              "</table>\n",
              "</div>\n",
              "    <div class=\"colab-df-buttons\">\n",
              "\n",
              "  <div class=\"colab-df-container\">\n",
              "    <button class=\"colab-df-convert\" onclick=\"convertToInteractive('df-92a3362c-64fa-4798-91c7-3393d99b1b92')\"\n",
              "            title=\"Convert this dataframe to an interactive table.\"\n",
              "            style=\"display:none;\">\n",
              "\n",
              "  <svg xmlns=\"http://www.w3.org/2000/svg\" height=\"24px\" viewBox=\"0 -960 960 960\">\n",
              "    <path d=\"M120-120v-720h720v720H120Zm60-500h600v-160H180v160Zm220 220h160v-160H400v160Zm0 220h160v-160H400v160ZM180-400h160v-160H180v160Zm440 0h160v-160H620v160ZM180-180h160v-160H180v160Zm440 0h160v-160H620v160Z\"/>\n",
              "  </svg>\n",
              "    </button>\n",
              "\n",
              "  <style>\n",
              "    .colab-df-container {\n",
              "      display:flex;\n",
              "      gap: 12px;\n",
              "    }\n",
              "\n",
              "    .colab-df-convert {\n",
              "      background-color: #E8F0FE;\n",
              "      border: none;\n",
              "      border-radius: 50%;\n",
              "      cursor: pointer;\n",
              "      display: none;\n",
              "      fill: #1967D2;\n",
              "      height: 32px;\n",
              "      padding: 0 0 0 0;\n",
              "      width: 32px;\n",
              "    }\n",
              "\n",
              "    .colab-df-convert:hover {\n",
              "      background-color: #E2EBFA;\n",
              "      box-shadow: 0px 1px 2px rgba(60, 64, 67, 0.3), 0px 1px 3px 1px rgba(60, 64, 67, 0.15);\n",
              "      fill: #174EA6;\n",
              "    }\n",
              "\n",
              "    .colab-df-buttons div {\n",
              "      margin-bottom: 4px;\n",
              "    }\n",
              "\n",
              "    [theme=dark] .colab-df-convert {\n",
              "      background-color: #3B4455;\n",
              "      fill: #D2E3FC;\n",
              "    }\n",
              "\n",
              "    [theme=dark] .colab-df-convert:hover {\n",
              "      background-color: #434B5C;\n",
              "      box-shadow: 0px 1px 3px 1px rgba(0, 0, 0, 0.15);\n",
              "      filter: drop-shadow(0px 1px 2px rgba(0, 0, 0, 0.3));\n",
              "      fill: #FFFFFF;\n",
              "    }\n",
              "  </style>\n",
              "\n",
              "    <script>\n",
              "      const buttonEl =\n",
              "        document.querySelector('#df-92a3362c-64fa-4798-91c7-3393d99b1b92 button.colab-df-convert');\n",
              "      buttonEl.style.display =\n",
              "        google.colab.kernel.accessAllowed ? 'block' : 'none';\n",
              "\n",
              "      async function convertToInteractive(key) {\n",
              "        const element = document.querySelector('#df-92a3362c-64fa-4798-91c7-3393d99b1b92');\n",
              "        const dataTable =\n",
              "          await google.colab.kernel.invokeFunction('convertToInteractive',\n",
              "                                                    [key], {});\n",
              "        if (!dataTable) return;\n",
              "\n",
              "        const docLinkHtml = 'Like what you see? Visit the ' +\n",
              "          '<a target=\"_blank\" href=https://colab.research.google.com/notebooks/data_table.ipynb>data table notebook</a>'\n",
              "          + ' to learn more about interactive tables.';\n",
              "        element.innerHTML = '';\n",
              "        dataTable['output_type'] = 'display_data';\n",
              "        await google.colab.output.renderOutput(dataTable, element);\n",
              "        const docLink = document.createElement('div');\n",
              "        docLink.innerHTML = docLinkHtml;\n",
              "        element.appendChild(docLink);\n",
              "      }\n",
              "    </script>\n",
              "  </div>\n",
              "\n",
              "\n",
              "<div id=\"df-776025d4-82b4-4c76-9acb-49c30119a03b\">\n",
              "  <button class=\"colab-df-quickchart\" onclick=\"quickchart('df-776025d4-82b4-4c76-9acb-49c30119a03b')\"\n",
              "            title=\"Suggest charts\"\n",
              "            style=\"display:none;\">\n",
              "\n",
              "<svg xmlns=\"http://www.w3.org/2000/svg\" height=\"24px\"viewBox=\"0 0 24 24\"\n",
              "     width=\"24px\">\n",
              "    <g>\n",
              "        <path d=\"M19 3H5c-1.1 0-2 .9-2 2v14c0 1.1.9 2 2 2h14c1.1 0 2-.9 2-2V5c0-1.1-.9-2-2-2zM9 17H7v-7h2v7zm4 0h-2V7h2v10zm4 0h-2v-4h2v4z\"/>\n",
              "    </g>\n",
              "</svg>\n",
              "  </button>\n",
              "\n",
              "<style>\n",
              "  .colab-df-quickchart {\n",
              "      --bg-color: #E8F0FE;\n",
              "      --fill-color: #1967D2;\n",
              "      --hover-bg-color: #E2EBFA;\n",
              "      --hover-fill-color: #174EA6;\n",
              "      --disabled-fill-color: #AAA;\n",
              "      --disabled-bg-color: #DDD;\n",
              "  }\n",
              "\n",
              "  [theme=dark] .colab-df-quickchart {\n",
              "      --bg-color: #3B4455;\n",
              "      --fill-color: #D2E3FC;\n",
              "      --hover-bg-color: #434B5C;\n",
              "      --hover-fill-color: #FFFFFF;\n",
              "      --disabled-bg-color: #3B4455;\n",
              "      --disabled-fill-color: #666;\n",
              "  }\n",
              "\n",
              "  .colab-df-quickchart {\n",
              "    background-color: var(--bg-color);\n",
              "    border: none;\n",
              "    border-radius: 50%;\n",
              "    cursor: pointer;\n",
              "    display: none;\n",
              "    fill: var(--fill-color);\n",
              "    height: 32px;\n",
              "    padding: 0;\n",
              "    width: 32px;\n",
              "  }\n",
              "\n",
              "  .colab-df-quickchart:hover {\n",
              "    background-color: var(--hover-bg-color);\n",
              "    box-shadow: 0 1px 2px rgba(60, 64, 67, 0.3), 0 1px 3px 1px rgba(60, 64, 67, 0.15);\n",
              "    fill: var(--button-hover-fill-color);\n",
              "  }\n",
              "\n",
              "  .colab-df-quickchart-complete:disabled,\n",
              "  .colab-df-quickchart-complete:disabled:hover {\n",
              "    background-color: var(--disabled-bg-color);\n",
              "    fill: var(--disabled-fill-color);\n",
              "    box-shadow: none;\n",
              "  }\n",
              "\n",
              "  .colab-df-spinner {\n",
              "    border: 2px solid var(--fill-color);\n",
              "    border-color: transparent;\n",
              "    border-bottom-color: var(--fill-color);\n",
              "    animation:\n",
              "      spin 1s steps(1) infinite;\n",
              "  }\n",
              "\n",
              "  @keyframes spin {\n",
              "    0% {\n",
              "      border-color: transparent;\n",
              "      border-bottom-color: var(--fill-color);\n",
              "      border-left-color: var(--fill-color);\n",
              "    }\n",
              "    20% {\n",
              "      border-color: transparent;\n",
              "      border-left-color: var(--fill-color);\n",
              "      border-top-color: var(--fill-color);\n",
              "    }\n",
              "    30% {\n",
              "      border-color: transparent;\n",
              "      border-left-color: var(--fill-color);\n",
              "      border-top-color: var(--fill-color);\n",
              "      border-right-color: var(--fill-color);\n",
              "    }\n",
              "    40% {\n",
              "      border-color: transparent;\n",
              "      border-right-color: var(--fill-color);\n",
              "      border-top-color: var(--fill-color);\n",
              "    }\n",
              "    60% {\n",
              "      border-color: transparent;\n",
              "      border-right-color: var(--fill-color);\n",
              "    }\n",
              "    80% {\n",
              "      border-color: transparent;\n",
              "      border-right-color: var(--fill-color);\n",
              "      border-bottom-color: var(--fill-color);\n",
              "    }\n",
              "    90% {\n",
              "      border-color: transparent;\n",
              "      border-bottom-color: var(--fill-color);\n",
              "    }\n",
              "  }\n",
              "</style>\n",
              "\n",
              "  <script>\n",
              "    async function quickchart(key) {\n",
              "      const quickchartButtonEl =\n",
              "        document.querySelector('#' + key + ' button');\n",
              "      quickchartButtonEl.disabled = true;  // To prevent multiple clicks.\n",
              "      quickchartButtonEl.classList.add('colab-df-spinner');\n",
              "      try {\n",
              "        const charts = await google.colab.kernel.invokeFunction(\n",
              "            'suggestCharts', [key], {});\n",
              "      } catch (error) {\n",
              "        console.error('Error during call to suggestCharts:', error);\n",
              "      }\n",
              "      quickchartButtonEl.classList.remove('colab-df-spinner');\n",
              "      quickchartButtonEl.classList.add('colab-df-quickchart-complete');\n",
              "    }\n",
              "    (() => {\n",
              "      let quickchartButtonEl =\n",
              "        document.querySelector('#df-776025d4-82b4-4c76-9acb-49c30119a03b button');\n",
              "      quickchartButtonEl.style.display =\n",
              "        google.colab.kernel.accessAllowed ? 'block' : 'none';\n",
              "    })();\n",
              "  </script>\n",
              "</div>\n",
              "\n",
              "    </div>\n",
              "  </div>\n"
            ],
            "application/vnd.google.colaboratory.intrinsic+json": {
              "type": "dataframe",
              "variable_name": "annotated_proteins"
            }
          },
          "metadata": {},
          "execution_count": 14
        }
      ]
    },
    {
      "cell_type": "markdown",
      "source": [
        "Example: Use the protein sequence of P20536 to identify homologous proteins using BLAST"
      ],
      "metadata": {
        "id": "xo45-TfelabW"
      }
    },
    {
      "cell_type": "code",
      "source": [
        "sequence = annotated_proteins[annotated_proteins['EntryID']=='P20536']\n",
        "\n",
        "sequence_Id= annotated_proteins.EntryID.tolist()[0]\n",
        "\n",
        "result= NCBIWWW.qblast(\"blastp\", \"nr\", sequence)\n",
        "\n",
        "result"
      ],
      "metadata": {
        "colab": {
          "base_uri": "https://localhost:8080/"
        },
        "id": "F1Wze7CTk9RL",
        "outputId": "23bf4d5e-d255-49e1-9cec-e259088abf2c"
      },
      "execution_count": null,
      "outputs": [
        {
          "output_type": "execute_result",
          "data": {
            "text/plain": [
              "<_io.StringIO at 0x7d753da57f40>"
            ]
          },
          "metadata": {},
          "execution_count": 15
        }
      ]
    },
    {
      "cell_type": "code",
      "source": [
        "blast_record = NCBIXML.read(result)\n"
      ],
      "metadata": {
        "id": "q4MIuCq1mPNb"
      },
      "execution_count": null,
      "outputs": []
    },
    {
      "cell_type": "markdown",
      "source": [
        "Below are the homologs for the given sequence"
      ],
      "metadata": {
        "id": "KXtaTiPWmZTw"
      }
    },
    {
      "cell_type": "code",
      "source": [
        "homologs_proteins = []\n",
        "for alignment in blast_record.alignments:\n",
        "      for hsp in alignment.hsps:\n",
        "          homologs_proteins.append((alignment.accession, hsp.expect, hsp.bits))\n",
        "sorted_homologs = sorted(homologs_proteins, key=lambda x: x[2],reverse=True)\n",
        "print(sorted_homologs)"
      ],
      "metadata": {
        "colab": {
          "base_uri": "https://localhost:8080/"
        },
        "id": "Hldap3tvmayf",
        "outputId": "52eacabb-39e5-42f0-81d1-fb8c1b2f847c"
      },
      "execution_count": null,
      "outputs": [
        {
          "output_type": "stream",
          "name": "stdout",
          "text": [
            "[('5JKT_A', 7.51506e-25, 104.375), ('5JKS_A', 7.76141e-25, 104.375), ('4OD8_A', 8.73577e-25, 104.375), ('YP_232991', 9.58999e-24, 101.293), ('UPV00359', 9.79872e-24, 101.293), ('SMZ64663', 9.90479e-24, 101.293), ('ATB55385', 9.90479e-24, 101.293), ('P20536', 1.02299e-23, 101.293), ('P04303', 1.02299e-23, 101.293), ('AAX78445', 1.69105e-23, 101.293), ('WOW88425', 9.70149e-24, 100.908), ('UZL87749', 9.95016e-24, 100.908), ('ADZ29444', 1.05657e-23, 100.908), ('UZS34520', 1.13927e-23, 100.908), ('WHP54032', 1.13927e-23, 100.908), ('UZS34695', 1.21528e-23, 100.908), ('UWO73681', 1.24173e-23, 100.908), ('WRO04390', 1.24173e-23, 100.908), ('UUV50126', 1.32458e-23, 100.908), ('UZV32540', 1.35341e-23, 100.908), ('UXB90208', 1.36806e-23, 100.908), ('UZV17383', 1.39783e-23, 100.908), ('UUV52990', 1.41296e-23, 100.908), ('3NT7_A', 1.65864e-23, 100.908), ('ATB55163', 7.23763e-25, 100.523), ('UXL95541', 1.12822e-24, 100.523), ('WEW78007', 5.00448e-24, 100.523), ('UYX46851', 1.42298e-23, 100.523), ('AGR36562', 1.52353e-23, 100.523), ('WDO57146', 1.52353e-23, 100.523), ('UUV52453', 1.52353e-23, 100.523), ('URP85043', 1.52353e-23, 100.523), ('NP_536528', 1.57353e-23, 100.523), ('UZS35389', 1.59056e-23, 100.523), ('WOW73496', 1.60777e-23, 100.523), ('UXP42083', 1.60777e-23, 100.523), ('UVT70085', 1.62517e-23, 100.523), ('UXL62039', 1.64276e-23, 100.523), ('UTZ20153', 1.67851e-23, 100.523), ('UVT69552', 1.67851e-23, 100.523), ('URQ22802', 1.69667e-23, 100.523), ('WCS73224', 1.69667e-23, 100.523), ('WKW66547', 1.69667e-23, 100.523), ('WAB04291', 1.69667e-23, 100.523), ('WMP27482', 1.73359e-23, 100.523), ('WOW76001', 1.77131e-23, 100.523), ('UTZ19261', 1.82944e-23, 100.523), ('UWO44168', 1.86925e-23, 100.523), ('WEF39764', 1.93058e-23, 100.523), ('WVM35526', 7.46952e-25, 99.7525)]\n"
          ]
        }
      ]
    },
    {
      "cell_type": "code",
      "source": [
        "accessions=[]\n",
        "for accession,e_value,bits in sorted_homologs:\n",
        "  if e_value<0.001:\n",
        "    accessions.append(accession)\n",
        "print(accessions)"
      ],
      "metadata": {
        "colab": {
          "base_uri": "https://localhost:8080/"
        },
        "id": "xN9_p4SSmhEW",
        "outputId": "b6e3ffa6-410e-464e-b90e-e876f2c3ed44"
      },
      "execution_count": null,
      "outputs": [
        {
          "output_type": "stream",
          "name": "stdout",
          "text": [
            "['5JKT_A', '5JKS_A', '4OD8_A', 'YP_232991', 'UPV00359', 'SMZ64663', 'ATB55385', 'P20536', 'P04303', 'AAX78445', 'WOW88425', 'UZL87749', 'ADZ29444', 'UZS34520', 'WHP54032', 'UZS34695', 'UWO73681', 'WRO04390', 'UUV50126', 'UZV32540', 'UXB90208', 'UZV17383', 'UUV52990', '3NT7_A', 'ATB55163', 'UXL95541', 'WEW78007', 'UYX46851', 'AGR36562', 'WDO57146', 'UUV52453', 'URP85043', 'NP_536528', 'UZS35389', 'WOW73496', 'UXP42083', 'UVT70085', 'UXL62039', 'UTZ20153', 'UVT69552', 'URQ22802', 'WCS73224', 'WKW66547', 'WAB04291', 'WMP27482', 'WOW76001', 'UTZ19261', 'UWO44168', 'WEF39764', 'WVM35526']\n"
          ]
        }
      ]
    },
    {
      "cell_type": "markdown",
      "source": [
        "Accessions contain the homologous list of proteins of the source protein sequence 'P20536'. Let us consider top-5 homologous proteins for simplicity"
      ],
      "metadata": {
        "id": "PpkQTXrLmpau"
      }
    },
    {
      "cell_type": "markdown",
      "source": [
        "Our next goal is to identify the GO terms for these five protein sequences"
      ],
      "metadata": {
        "id": "ir8w8xaEpEv_"
      }
    },
    {
      "cell_type": "code",
      "source": [
        "import requests\n",
        "\n",
        "def QuickGo(accession):\n",
        "    url = \"https://www.ebi.ac.uk/QuickGO/services/annotation/search\"\n",
        "    params = {'geneProductId': accession}\n",
        "    response = requests.get(url, params=params)\n",
        "\n",
        "    try:\n",
        "        if response.status_code == 200:\n",
        "            data = response.json()\n",
        "            if data.get('results'):\n",
        "                annotations = [{\n",
        "                    'goId': result['goId'],\n",
        "                    'evidenceCode': result['evidenceCode'],\n",
        "                    'goAspect': result['goAspect']\n",
        "                } for result in data['results']]\n",
        "                return annotations\n",
        "            else:\n",
        "                print(f\"No annotations found for {accession}.\")\n",
        "                return None\n",
        "        else:\n",
        "            #print(f\"Error: {response.status_code}\")\n",
        "            #print(f\"Message: {response.json().get('message', 'No error message available')}\")\n",
        "            return None\n",
        "    except ValueError:\n",
        "        print(\"Failed to decode JSON from response.\")\n",
        "        print(\"Response status code:\", response.status_code)\n",
        "        print(\"Response text:\", response.text)\n",
        "        return None\n",
        "\n",
        "accessions = accessions  # Your list of accessions\n",
        "\n",
        "homologs_proteins_go = []\n",
        "\n",
        "for accession in accessions:\n",
        "    annotations = QuickGo(accession)\n",
        "    if annotations:\n",
        "        homologs_proteins_go.append((accession, annotations))\n",
        "\n",
        "# Now `homologs_proteins_go` contains tuples of accession numbers and their GO annotations\n",
        "for item in homologs_proteins_go:\n",
        "    print(item[0], item[1])  # This prints each accession and its annotations\n"
      ],
      "metadata": {
        "colab": {
          "base_uri": "https://localhost:8080/"
        },
        "id": "HKKIhwJvnx9X",
        "outputId": "196e8974-e5ef-4178-956c-8b63865ca796"
      },
      "execution_count": null,
      "outputs": [
        {
          "output_type": "stream",
          "name": "stdout",
          "text": [
            "P20536 [{'goId': 'GO:0003677', 'evidenceCode': 'ECO:0007322', 'goAspect': 'molecular_function'}, {'goId': 'GO:0004844', 'evidenceCode': 'ECO:0000501', 'goAspect': 'molecular_function'}, {'goId': 'GO:0005515', 'evidenceCode': 'ECO:0000353', 'goAspect': 'molecular_function'}, {'goId': 'GO:0016787', 'evidenceCode': 'ECO:0007322', 'goAspect': 'molecular_function'}, {'goId': 'GO:0016799', 'evidenceCode': 'ECO:0000256', 'goAspect': 'molecular_function'}, {'goId': 'GO:0006281', 'evidenceCode': 'ECO:0000256', 'goAspect': 'biological_process'}, {'goId': 'GO:0006281', 'evidenceCode': 'ECO:0007322', 'goAspect': 'biological_process'}, {'goId': 'GO:0006974', 'evidenceCode': 'ECO:0007322', 'goAspect': 'biological_process'}, {'goId': 'GO:0039693', 'evidenceCode': 'ECO:0000314', 'goAspect': 'biological_process'}]\n",
            "P04303 [{'goId': 'GO:0003677', 'evidenceCode': 'ECO:0007322', 'goAspect': 'molecular_function'}, {'goId': 'GO:0004844', 'evidenceCode': 'ECO:0000501', 'goAspect': 'molecular_function'}, {'goId': 'GO:0016787', 'evidenceCode': 'ECO:0007322', 'goAspect': 'molecular_function'}, {'goId': 'GO:0016799', 'evidenceCode': 'ECO:0000256', 'goAspect': 'molecular_function'}, {'goId': 'GO:0006281', 'evidenceCode': 'ECO:0000256', 'goAspect': 'biological_process'}, {'goId': 'GO:0006281', 'evidenceCode': 'ECO:0007322', 'goAspect': 'biological_process'}, {'goId': 'GO:0006974', 'evidenceCode': 'ECO:0007322', 'goAspect': 'biological_process'}]\n"
          ]
        }
      ]
    },
    {
      "cell_type": "markdown",
      "source": [
        "Now let us integrate all the blocks to one modular programming block"
      ],
      "metadata": {
        "id": "IeFt3-sRvdo6"
      }
    },
    {
      "cell_type": "code",
      "source": [
        "from Bio.Blast import NCBIWWW, NCBIXML\n",
        "import pandas as pd\n",
        "import requests\n",
        "\n",
        "# Let's assume annotated_proteins is a DataFrame that has been defined earlier\n",
        "# and has columns 'EntryID' and 'Sequence'\n",
        "\n",
        "def QuickGo(accession):\n",
        "    url = \"https://www.ebi.ac.uk/QuickGO/services/annotation/search\"\n",
        "    params = {'geneProductId': accession}\n",
        "    response = requests.get(url, params=params)\n",
        "\n",
        "    if response.status_code == 200:\n",
        "        try:\n",
        "            data = response.json()\n",
        "            if data.get('results'):\n",
        "                return [result['goId'] for result in data['results']]\n",
        "            else:\n",
        "                # Uncomment the print statement below for debugging\n",
        "                # print(f\"No annotations found for {accession}.\")\n",
        "                return []\n",
        "        except ValueError:\n",
        "            # Uncomment the print statements below for debugging\n",
        "            # print(f\"Invalid JSON response for {accession}.\")\n",
        "            # print(\"Response text:\", response.text)\n",
        "            return []\n",
        "    else:\n",
        "        # Uncomment the print statement below for debugging\n",
        "        # print(f\"Error {response.status_code} for {accession}: {response.text}\")\n",
        "        return []\n",
        "\n",
        "# Assuming `accessions` is a list of accession numbers obtained from the previous BLAST results\n",
        "homologs_proteins_go = {}\n",
        "\n",
        "for accession in accessions:\n",
        "    go_terms = QuickGo(accession)\n",
        "    if go_terms:\n",
        "        homologs_proteins_go[accession] = ','.join(go_terms)\n",
        "\n",
        "# Now `homologs_proteins_go` is a dictionary where keys are accession numbers,\n",
        "# and values are comma-separated GO terms for each accession.\n",
        "\n",
        "# Example code to perform BLAST and retrieve GO terms for each entry ID\n",
        "# Limiting to the first 25 entries for demonstration; remove the slice [:25] for full processing\n",
        "entry_ids = annotated_proteins['EntryID'].tolist()[:25]\n",
        "\n",
        "# Dictionary to store the comma-separated GO terms for each EntryID\n",
        "entry_to_go_terms = {}\n",
        "\n",
        "for entry_id in entry_ids:\n",
        "    sequence = annotated_proteins.loc[annotated_proteins['EntryID'] == entry_id, 'sequence'].iloc[0]\n",
        "    result = NCBIWWW.qblast(\"blastp\", \"nr\", sequence)\n",
        "    blast_record = NCBIXML.read(result)\n",
        "\n",
        "    homologs_proteins = []\n",
        "    for alignment in blast_record.alignments:\n",
        "        for hsp in alignment.hsps:\n",
        "            if hsp.expect < 0.001:\n",
        "                homologs_proteins.append(alignment.accession)\n",
        "\n",
        "    for accession in homologs_proteins:\n",
        "        go_terms = QuickGo(accession)\n",
        "        if go_terms:\n",
        "            # Store or update the GO terms for the current EntryID\n",
        "            existing_terms = entry_to_go_terms.get(entry_id, \"\")\n",
        "            new_terms = ','.join(go_terms)\n",
        "            entry_to_go_terms[entry_id] = f\"{existing_terms},{new_terms}\" if existing_terms else new_terms\n",
        "\n"
      ],
      "metadata": {
        "id": "NjnJI9JOviji"
      },
      "execution_count": null,
      "outputs": []
    },
    {
      "cell_type": "markdown",
      "source": [
        "Extract the required go-terms for each of the accession proteins"
      ],
      "metadata": {
        "id": "fXzLN61xp2T4"
      }
    },
    {
      "cell_type": "code",
      "source": [
        "homologs_proteins_go"
      ],
      "metadata": {
        "colab": {
          "base_uri": "https://localhost:8080/"
        },
        "id": "LAOQ4ORYp8Tv",
        "outputId": "be80ade3-19db-4461-f6c3-a05400d98035"
      },
      "execution_count": null,
      "outputs": [
        {
          "output_type": "execute_result",
          "data": {
            "text/plain": [
              "{'P20536': 'GO:0003677,GO:0004844,GO:0005515,GO:0016787,GO:0016799,GO:0006281,GO:0006281,GO:0006974,GO:0039693',\n",
              " 'P04303': 'GO:0003677,GO:0004844,GO:0016787,GO:0016799,GO:0006281,GO:0006281,GO:0006974'}"
            ]
          },
          "metadata": {},
          "execution_count": 21
        }
      ]
    }
  ]
}