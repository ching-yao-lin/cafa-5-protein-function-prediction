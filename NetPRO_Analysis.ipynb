{
  "nbformat": 4,
  "nbformat_minor": 0,
  "metadata": {
    "colab": {
      "provenance": []
    },
    "kernelspec": {
      "name": "python3",
      "display_name": "Python 3"
    },
    "language_info": {
      "name": "python"
    }
  },
  "cells": [
    {
      "cell_type": "code",
      "execution_count": null,
      "metadata": {
        "id": "iz_dRzjjqZip"
      },
      "outputs": [],
      "source": [
        "import requests\n",
        "\n",
        "def run_interproscan(sequence):\n",
        "    url = \"https://www.ebi.ac.uk/Tools/services/rest/iprscan5/run/\"\n",
        "    params = {'email': 'asharsha30@tamu.edu', 'sequence': 'sequence'}\n",
        "    response = requests.post(url, data=params)\n",
        "    if response.ok:\n",
        "        return response.content  # This is the job ID for fetching the results later\n",
        "    else:\n",
        "        return None\n"
      ]
    },
    {
      "cell_type": "code",
      "source": [
        "run_interproscan('MNSVTVSHAPYTITYHDDWEPVMSQLVEFYNEVASWLLRDETSPIPDKFFIQLKQPLRNKRVCVCGIDPYPKDGTGVPFESPNFTKKSIKEIASSISRLTGVIDYKGYNLNIIDGVIPWNYYLSCKLGETKSHAIYWDKISKLLLQHITKHVSVLYCLGKTDFSNIRAKLESPVTTIVGYHPAARDRQFEKDRSFEIINVLLELDNKVPINWAQGFIY')"
      ],
      "metadata": {
        "colab": {
          "base_uri": "https://localhost:8080/"
        },
        "id": "-FSqRV62vXHu",
        "outputId": "0aa57e9e-4242-4399-8524-12b4f66f2fb7"
      },
      "execution_count": null,
      "outputs": [
        {
          "output_type": "execute_result",
          "data": {
            "text/plain": [
              "b'iprscan5-R20240402-200901-0425-82479503-p1m'"
            ]
          },
          "metadata": {},
          "execution_count": 2
        }
      ]
    },
    {
      "cell_type": "code",
      "source": [
        "import requests\n",
        "\n",
        "job_id = 'iprscan5-R20240401-135849-0494-59284038-p1m'  # Example job ID\n",
        "base_url = 'https://www.ebi.ac.uk/interpro/result/InterProScan/'\n",
        "\n",
        "# Construct the URL to download the results\n",
        "result_url = f\"{base_url}{job_id}\"\n",
        "\n",
        "response = requests.get(result_url)\n",
        "if response.ok:\n",
        "    # Save the results to a file\n",
        "    with open('interpro_results.txt', 'wb') as file:\n",
        "        file.write(response.content)\n",
        "else:\n",
        "    print(f\"Error retrieving results: {response.status_code}\")\n"
      ],
      "metadata": {
        "id": "w1tDk--VvdTW"
      },
      "execution_count": null,
      "outputs": []
    },
    {
      "cell_type": "code",
      "source": [
        "!git clone https://github.com/ddofer/ProFET.git\n",
        "\n"
      ],
      "metadata": {
        "colab": {
          "base_uri": "https://localhost:8080/"
        },
        "id": "pMnDUVd26QPM",
        "outputId": "f77eea4c-5452-4a01-d566-e822a9080a07"
      },
      "execution_count": null,
      "outputs": [
        {
          "output_type": "stream",
          "name": "stdout",
          "text": [
            "Cloning into 'ProFET'...\n",
            "remote: Enumerating objects: 652, done.\u001b[K\n",
            "remote: Total 652 (delta 0), reused 0 (delta 0), pack-reused 652\u001b[K\n",
            "Receiving objects: 100% (652/652), 132.27 MiB | 18.33 MiB/s, done.\n",
            "Resolving deltas: 100% (187/187), done.\n",
            "Updating files: 100% (213/213), done.\n"
          ]
        }
      ]
    },
    {
      "cell_type": "code",
      "source": [
        "import os\n",
        "os.chdir('ProFET')\n"
      ],
      "metadata": {
        "id": "831EPVb06XCT"
      },
      "execution_count": null,
      "outputs": []
    },
    {
      "cell_type": "code",
      "source": [
        "protein_sequence = \"\"\"\n",
        ">P20536\n",
        "MNSVTVSHAPYTITYHDDWEPVMSQLVEFYNEVASWLLRDETSPIPDKFFIQLKQPLRNKRVCVCGIDPYPKDGTGVPFESPNFTKKSIKEIASSISRLTGVIDYKGYNLNIIDGVIPWNYYLSCKLGETKSHAIYWDKISKLLLQHITKHVSVLYCLGKTDFSNIRAKLESPVTTIVGYHPAARDRQFEKDRSFEIINVLLELDNKVPINWAQGFIY\n",
        "\"\"\".strip()  # Your protein sequence here\n",
        "\n",
        "# Write the sequence to a FASTA file\n",
        "with open(\"my_protein_sequence.fasta\", \"w\") as file:\n",
        "    file.write(protein_sequence)\n",
        "\n"
      ],
      "metadata": {
        "id": "pZ_C9ED86YCs"
      },
      "execution_count": null,
      "outputs": []
    },
    {
      "cell_type": "code",
      "source": [
        "# If the 'CODE' directory is indeed directly inside the 'ProFET' directory, navigate into 'ProFET'\n",
        "%cd ProFET\n",
        "\n",
        "# Try listing the contents of 'CODE/feat_extract' to find 'pipeline.py'\n",
        "#!ls ProFET/ProFET/feat_extract/pipeline.py\n",
        "\n",
        "#!ls"
      ],
      "metadata": {
        "colab": {
          "base_uri": "https://localhost:8080/"
        },
        "id": "Cl2eMi2Z8YOW",
        "outputId": "9c89873e-7ba1-497d-8628-73795bed85e8"
      },
      "execution_count": null,
      "outputs": [
        {
          "output_type": "stream",
          "name": "stdout",
          "text": [
            "[Errno 2] No such file or directory: 'ProFET'\n",
            "/content/ProFET/ProFET\n"
          ]
        }
      ]
    },
    {
      "cell_type": "code",
      "source": [
        "import pandas as pd\n",
        "\n",
        "# Assuming you have InterProScan results in a TSV file\n",
        "results_df = pd.read_csv('interpro_results.txt', delimiter='\\t', header=None)\n",
        "\n",
        "# Create binary features (this will need to be tailored to the specific format of your InterProScan output)\n",
        "binary_features_df = pd.get_dummies(results_df.iloc[:, ?])  # Replace ? with the column index for domains/motifs\n"
      ],
      "metadata": {
        "colab": {
          "base_uri": "https://localhost:8080/",
          "height": 124
        },
        "id": "mPP0SuJOrCRQ",
        "outputId": "8d320392-731b-4a2f-dd29-85f19a61f7bf"
      },
      "execution_count": null,
      "outputs": [
        {
          "output_type": "error",
          "ename": "SyntaxError",
          "evalue": "invalid syntax (<ipython-input-19-d7afb5508131>, line 7)",
          "traceback": [
            "\u001b[0;36m  File \u001b[0;32m\"<ipython-input-19-d7afb5508131>\"\u001b[0;36m, line \u001b[0;32m7\u001b[0m\n\u001b[0;31m    binary_features_df = pd.get_dummies(results_df.iloc[:, ?])  # Replace ? with the column index for domains/motifs\u001b[0m\n\u001b[0m                                                           ^\u001b[0m\n\u001b[0;31mSyntaxError\u001b[0m\u001b[0;31m:\u001b[0m invalid syntax\n"
          ]
        }
      ]
    },
    {
      "cell_type": "code",
      "source": [
        "results_df"
      ],
      "metadata": {
        "colab": {
          "base_uri": "https://localhost:8080/",
          "height": 141
        },
        "id": "1IFoYFKs0Ci8",
        "outputId": "7c22315c-2afd-4bc0-9c35-ded568e9c168"
      },
      "execution_count": null,
      "outputs": [
        {
          "output_type": "error",
          "ename": "NameError",
          "evalue": "name 'results_df' is not defined",
          "traceback": [
            "\u001b[0;31m---------------------------------------------------------------------------\u001b[0m",
            "\u001b[0;31mNameError\u001b[0m                                 Traceback (most recent call last)",
            "\u001b[0;32m<ipython-input-20-3c899ad3fe5e>\u001b[0m in \u001b[0;36m<cell line: 1>\u001b[0;34m()\u001b[0m\n\u001b[0;32m----> 1\u001b[0;31m \u001b[0mresults_df\u001b[0m\u001b[0;34m\u001b[0m\u001b[0;34m\u001b[0m\u001b[0m\n\u001b[0m",
            "\u001b[0;31mNameError\u001b[0m: name 'results_df' is not defined"
          ]
        }
      ]
    }
  ]
}