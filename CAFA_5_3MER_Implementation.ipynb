{
  "nbformat": 4,
  "nbformat_minor": 0,
  "metadata": {
    "colab": {
      "provenance": []
    },
    "kernelspec": {
      "name": "python3",
      "display_name": "Python 3"
    },
    "language_info": {
      "name": "python"
    }
  },
  "cells": [
    {
      "cell_type": "code",
      "execution_count": null,
      "metadata": {
        "id": "Fq5EJyw-jGIv"
      },
      "outputs": [],
      "source": [
        "import numpy as np\n",
        "import pandas as pd\n",
        "import datetime\n",
        "from google.colab import drive\n",
        "import os"
      ]
    },
    {
      "cell_type": "code",
      "source": [
        "!pip install biopython\n",
        "\n",
        "!pip install obonet\n"
      ],
      "metadata": {
        "colab": {
          "base_uri": "https://localhost:8080/"
        },
        "id": "hgqPXE3akIiS",
        "outputId": "3dc97ac0-98f8-49b2-98c7-156dbe0b9bfb"
      },
      "execution_count": null,
      "outputs": [
        {
          "output_type": "stream",
          "name": "stdout",
          "text": [
            "Collecting biopython\n",
            "  Downloading biopython-1.83-cp310-cp310-manylinux_2_17_x86_64.manylinux2014_x86_64.whl (3.1 MB)\n",
            "\u001b[2K     \u001b[90m━━━━━━━━━━━━━━━━━━━━━━━━━━━━━━━━━━━━━━━━\u001b[0m \u001b[32m3.1/3.1 MB\u001b[0m \u001b[31m9.6 MB/s\u001b[0m eta \u001b[36m0:00:00\u001b[0m\n",
            "\u001b[?25hRequirement already satisfied: numpy in /usr/local/lib/python3.10/dist-packages (from biopython) (1.25.2)\n",
            "Installing collected packages: biopython\n",
            "Successfully installed biopython-1.83\n",
            "Collecting obonet\n",
            "  Downloading obonet-1.0.0-py3-none-any.whl (9.2 kB)\n",
            "Requirement already satisfied: networkx in /usr/local/lib/python3.10/dist-packages (from obonet) (3.2.1)\n",
            "Installing collected packages: obonet\n",
            "Successfully installed obonet-1.0.0\n"
          ]
        }
      ]
    },
    {
      "cell_type": "code",
      "source": [
        "from Bio import SeqIO"
      ],
      "metadata": {
        "id": "EUdEugAJlSIS"
      },
      "execution_count": null,
      "outputs": []
    },
    {
      "cell_type": "markdown",
      "source": [
        "Reading the data from google drive"
      ],
      "metadata": {
        "id": "QA9XzuV2kXLC"
      }
    },
    {
      "cell_type": "code",
      "source": [
        "drive.mount('/content/drive/')"
      ],
      "metadata": {
        "colab": {
          "base_uri": "https://localhost:8080/"
        },
        "id": "SxfBtWs9kTHT",
        "outputId": "5dd9ad69-0297-49de-ca25-ba859a990583"
      },
      "execution_count": null,
      "outputs": [
        {
          "output_type": "stream",
          "name": "stdout",
          "text": [
            "Mounted at /content/drive/\n"
          ]
        }
      ]
    },
    {
      "cell_type": "code",
      "source": [
        "train_root = '/content/drive/My Drive/Train'\n",
        "test_root = '/content/drive/My Drive/Test (Targets)'"
      ],
      "metadata": {
        "id": "RuVLGEnbkfST"
      },
      "execution_count": null,
      "outputs": []
    },
    {
      "cell_type": "code",
      "source": [
        "import networkx\n",
        "import obonet\n",
        "\n",
        "# Read the taxrank ontology\n",
        "\n",
        "\n",
        "with open(os.path.join(train_root, \"go-basic.obo\")) as obo_file:\n",
        "    go_graph = obonet.read_obo(obo_file)"
      ],
      "metadata": {
        "id": "ZCw2XgTBrl9S"
      },
      "execution_count": null,
      "outputs": []
    },
    {
      "cell_type": "markdown",
      "source": [
        "Taking SFO as our sub-ontology interest"
      ],
      "metadata": {
        "id": "WPuU_588k2P2"
      }
    },
    {
      "cell_type": "code",
      "source": [
        "Sub_Ontology='MFO'"
      ],
      "metadata": {
        "id": "SxA_qAoRk67t"
      },
      "execution_count": null,
      "outputs": []
    },
    {
      "cell_type": "markdown",
      "source": [
        "Reading the train_fasta sequences"
      ],
      "metadata": {
        "id": "cqIvWZ-EmeAE"
      }
    },
    {
      "cell_type": "code",
      "source": [
        "train_sequences_fasta = list(SeqIO.parse(os.path.join(train_root, \"train_sequences.fasta\"), \"fasta\"))\n",
        "sequences=[rec.seq for rec in train_sequences_fasta]\n",
        "#sequences[2]\n",
        "ids=[rec.id for rec in train_sequences_fasta]\n",
        "#ids[2]\n"
      ],
      "metadata": {
        "id": "iWPU8L_LlCqe"
      },
      "execution_count": null,
      "outputs": []
    },
    {
      "cell_type": "markdown",
      "source": [
        "Reading the train term"
      ],
      "metadata": {
        "id": "OSf4dyROnIwo"
      }
    },
    {
      "cell_type": "code",
      "source": [
        "train_terms = pd.read_csv(os.path.join(train_root, \"train_terms.tsv\"), sep=\"\\t\")\n",
        "train_terms.head()"
      ],
      "metadata": {
        "colab": {
          "base_uri": "https://localhost:8080/",
          "height": 206
        },
        "id": "HsBSbUScnK3-",
        "outputId": "8250b79d-81f0-478b-c93b-e066b892ee52"
      },
      "execution_count": null,
      "outputs": [
        {
          "output_type": "execute_result",
          "data": {
            "text/plain": [
              "      EntryID        term aspect\n",
              "0  A0A009IHW8  GO:0008152    BPO\n",
              "1  A0A009IHW8  GO:0034655    BPO\n",
              "2  A0A009IHW8  GO:0072523    BPO\n",
              "3  A0A009IHW8  GO:0044270    BPO\n",
              "4  A0A009IHW8  GO:0006753    BPO"
            ],
            "text/html": [
              "\n",
              "  <div id=\"df-dbf79895-7d52-4211-9097-4795f972cbd0\" class=\"colab-df-container\">\n",
              "    <div>\n",
              "<style scoped>\n",
              "    .dataframe tbody tr th:only-of-type {\n",
              "        vertical-align: middle;\n",
              "    }\n",
              "\n",
              "    .dataframe tbody tr th {\n",
              "        vertical-align: top;\n",
              "    }\n",
              "\n",
              "    .dataframe thead th {\n",
              "        text-align: right;\n",
              "    }\n",
              "</style>\n",
              "<table border=\"1\" class=\"dataframe\">\n",
              "  <thead>\n",
              "    <tr style=\"text-align: right;\">\n",
              "      <th></th>\n",
              "      <th>EntryID</th>\n",
              "      <th>term</th>\n",
              "      <th>aspect</th>\n",
              "    </tr>\n",
              "  </thead>\n",
              "  <tbody>\n",
              "    <tr>\n",
              "      <th>0</th>\n",
              "      <td>A0A009IHW8</td>\n",
              "      <td>GO:0008152</td>\n",
              "      <td>BPO</td>\n",
              "    </tr>\n",
              "    <tr>\n",
              "      <th>1</th>\n",
              "      <td>A0A009IHW8</td>\n",
              "      <td>GO:0034655</td>\n",
              "      <td>BPO</td>\n",
              "    </tr>\n",
              "    <tr>\n",
              "      <th>2</th>\n",
              "      <td>A0A009IHW8</td>\n",
              "      <td>GO:0072523</td>\n",
              "      <td>BPO</td>\n",
              "    </tr>\n",
              "    <tr>\n",
              "      <th>3</th>\n",
              "      <td>A0A009IHW8</td>\n",
              "      <td>GO:0044270</td>\n",
              "      <td>BPO</td>\n",
              "    </tr>\n",
              "    <tr>\n",
              "      <th>4</th>\n",
              "      <td>A0A009IHW8</td>\n",
              "      <td>GO:0006753</td>\n",
              "      <td>BPO</td>\n",
              "    </tr>\n",
              "  </tbody>\n",
              "</table>\n",
              "</div>\n",
              "    <div class=\"colab-df-buttons\">\n",
              "\n",
              "  <div class=\"colab-df-container\">\n",
              "    <button class=\"colab-df-convert\" onclick=\"convertToInteractive('df-dbf79895-7d52-4211-9097-4795f972cbd0')\"\n",
              "            title=\"Convert this dataframe to an interactive table.\"\n",
              "            style=\"display:none;\">\n",
              "\n",
              "  <svg xmlns=\"http://www.w3.org/2000/svg\" height=\"24px\" viewBox=\"0 -960 960 960\">\n",
              "    <path d=\"M120-120v-720h720v720H120Zm60-500h600v-160H180v160Zm220 220h160v-160H400v160Zm0 220h160v-160H400v160ZM180-400h160v-160H180v160Zm440 0h160v-160H620v160ZM180-180h160v-160H180v160Zm440 0h160v-160H620v160Z\"/>\n",
              "  </svg>\n",
              "    </button>\n",
              "\n",
              "  <style>\n",
              "    .colab-df-container {\n",
              "      display:flex;\n",
              "      gap: 12px;\n",
              "    }\n",
              "\n",
              "    .colab-df-convert {\n",
              "      background-color: #E8F0FE;\n",
              "      border: none;\n",
              "      border-radius: 50%;\n",
              "      cursor: pointer;\n",
              "      display: none;\n",
              "      fill: #1967D2;\n",
              "      height: 32px;\n",
              "      padding: 0 0 0 0;\n",
              "      width: 32px;\n",
              "    }\n",
              "\n",
              "    .colab-df-convert:hover {\n",
              "      background-color: #E2EBFA;\n",
              "      box-shadow: 0px 1px 2px rgba(60, 64, 67, 0.3), 0px 1px 3px 1px rgba(60, 64, 67, 0.15);\n",
              "      fill: #174EA6;\n",
              "    }\n",
              "\n",
              "    .colab-df-buttons div {\n",
              "      margin-bottom: 4px;\n",
              "    }\n",
              "\n",
              "    [theme=dark] .colab-df-convert {\n",
              "      background-color: #3B4455;\n",
              "      fill: #D2E3FC;\n",
              "    }\n",
              "\n",
              "    [theme=dark] .colab-df-convert:hover {\n",
              "      background-color: #434B5C;\n",
              "      box-shadow: 0px 1px 3px 1px rgba(0, 0, 0, 0.15);\n",
              "      filter: drop-shadow(0px 1px 2px rgba(0, 0, 0, 0.3));\n",
              "      fill: #FFFFFF;\n",
              "    }\n",
              "  </style>\n",
              "\n",
              "    <script>\n",
              "      const buttonEl =\n",
              "        document.querySelector('#df-dbf79895-7d52-4211-9097-4795f972cbd0 button.colab-df-convert');\n",
              "      buttonEl.style.display =\n",
              "        google.colab.kernel.accessAllowed ? 'block' : 'none';\n",
              "\n",
              "      async function convertToInteractive(key) {\n",
              "        const element = document.querySelector('#df-dbf79895-7d52-4211-9097-4795f972cbd0');\n",
              "        const dataTable =\n",
              "          await google.colab.kernel.invokeFunction('convertToInteractive',\n",
              "                                                    [key], {});\n",
              "        if (!dataTable) return;\n",
              "\n",
              "        const docLinkHtml = 'Like what you see? Visit the ' +\n",
              "          '<a target=\"_blank\" href=https://colab.research.google.com/notebooks/data_table.ipynb>data table notebook</a>'\n",
              "          + ' to learn more about interactive tables.';\n",
              "        element.innerHTML = '';\n",
              "        dataTable['output_type'] = 'display_data';\n",
              "        await google.colab.output.renderOutput(dataTable, element);\n",
              "        const docLink = document.createElement('div');\n",
              "        docLink.innerHTML = docLinkHtml;\n",
              "        element.appendChild(docLink);\n",
              "      }\n",
              "    </script>\n",
              "  </div>\n",
              "\n",
              "\n",
              "<div id=\"df-d2efbb1d-769e-4d5e-9ffd-5aa4df941272\">\n",
              "  <button class=\"colab-df-quickchart\" onclick=\"quickchart('df-d2efbb1d-769e-4d5e-9ffd-5aa4df941272')\"\n",
              "            title=\"Suggest charts\"\n",
              "            style=\"display:none;\">\n",
              "\n",
              "<svg xmlns=\"http://www.w3.org/2000/svg\" height=\"24px\"viewBox=\"0 0 24 24\"\n",
              "     width=\"24px\">\n",
              "    <g>\n",
              "        <path d=\"M19 3H5c-1.1 0-2 .9-2 2v14c0 1.1.9 2 2 2h14c1.1 0 2-.9 2-2V5c0-1.1-.9-2-2-2zM9 17H7v-7h2v7zm4 0h-2V7h2v10zm4 0h-2v-4h2v4z\"/>\n",
              "    </g>\n",
              "</svg>\n",
              "  </button>\n",
              "\n",
              "<style>\n",
              "  .colab-df-quickchart {\n",
              "      --bg-color: #E8F0FE;\n",
              "      --fill-color: #1967D2;\n",
              "      --hover-bg-color: #E2EBFA;\n",
              "      --hover-fill-color: #174EA6;\n",
              "      --disabled-fill-color: #AAA;\n",
              "      --disabled-bg-color: #DDD;\n",
              "  }\n",
              "\n",
              "  [theme=dark] .colab-df-quickchart {\n",
              "      --bg-color: #3B4455;\n",
              "      --fill-color: #D2E3FC;\n",
              "      --hover-bg-color: #434B5C;\n",
              "      --hover-fill-color: #FFFFFF;\n",
              "      --disabled-bg-color: #3B4455;\n",
              "      --disabled-fill-color: #666;\n",
              "  }\n",
              "\n",
              "  .colab-df-quickchart {\n",
              "    background-color: var(--bg-color);\n",
              "    border: none;\n",
              "    border-radius: 50%;\n",
              "    cursor: pointer;\n",
              "    display: none;\n",
              "    fill: var(--fill-color);\n",
              "    height: 32px;\n",
              "    padding: 0;\n",
              "    width: 32px;\n",
              "  }\n",
              "\n",
              "  .colab-df-quickchart:hover {\n",
              "    background-color: var(--hover-bg-color);\n",
              "    box-shadow: 0 1px 2px rgba(60, 64, 67, 0.3), 0 1px 3px 1px rgba(60, 64, 67, 0.15);\n",
              "    fill: var(--button-hover-fill-color);\n",
              "  }\n",
              "\n",
              "  .colab-df-quickchart-complete:disabled,\n",
              "  .colab-df-quickchart-complete:disabled:hover {\n",
              "    background-color: var(--disabled-bg-color);\n",
              "    fill: var(--disabled-fill-color);\n",
              "    box-shadow: none;\n",
              "  }\n",
              "\n",
              "  .colab-df-spinner {\n",
              "    border: 2px solid var(--fill-color);\n",
              "    border-color: transparent;\n",
              "    border-bottom-color: var(--fill-color);\n",
              "    animation:\n",
              "      spin 1s steps(1) infinite;\n",
              "  }\n",
              "\n",
              "  @keyframes spin {\n",
              "    0% {\n",
              "      border-color: transparent;\n",
              "      border-bottom-color: var(--fill-color);\n",
              "      border-left-color: var(--fill-color);\n",
              "    }\n",
              "    20% {\n",
              "      border-color: transparent;\n",
              "      border-left-color: var(--fill-color);\n",
              "      border-top-color: var(--fill-color);\n",
              "    }\n",
              "    30% {\n",
              "      border-color: transparent;\n",
              "      border-left-color: var(--fill-color);\n",
              "      border-top-color: var(--fill-color);\n",
              "      border-right-color: var(--fill-color);\n",
              "    }\n",
              "    40% {\n",
              "      border-color: transparent;\n",
              "      border-right-color: var(--fill-color);\n",
              "      border-top-color: var(--fill-color);\n",
              "    }\n",
              "    60% {\n",
              "      border-color: transparent;\n",
              "      border-right-color: var(--fill-color);\n",
              "    }\n",
              "    80% {\n",
              "      border-color: transparent;\n",
              "      border-right-color: var(--fill-color);\n",
              "      border-bottom-color: var(--fill-color);\n",
              "    }\n",
              "    90% {\n",
              "      border-color: transparent;\n",
              "      border-bottom-color: var(--fill-color);\n",
              "    }\n",
              "  }\n",
              "</style>\n",
              "\n",
              "  <script>\n",
              "    async function quickchart(key) {\n",
              "      const quickchartButtonEl =\n",
              "        document.querySelector('#' + key + ' button');\n",
              "      quickchartButtonEl.disabled = true;  // To prevent multiple clicks.\n",
              "      quickchartButtonEl.classList.add('colab-df-spinner');\n",
              "      try {\n",
              "        const charts = await google.colab.kernel.invokeFunction(\n",
              "            'suggestCharts', [key], {});\n",
              "      } catch (error) {\n",
              "        console.error('Error during call to suggestCharts:', error);\n",
              "      }\n",
              "      quickchartButtonEl.classList.remove('colab-df-spinner');\n",
              "      quickchartButtonEl.classList.add('colab-df-quickchart-complete');\n",
              "    }\n",
              "    (() => {\n",
              "      let quickchartButtonEl =\n",
              "        document.querySelector('#df-d2efbb1d-769e-4d5e-9ffd-5aa4df941272 button');\n",
              "      quickchartButtonEl.style.display =\n",
              "        google.colab.kernel.accessAllowed ? 'block' : 'none';\n",
              "    })();\n",
              "  </script>\n",
              "</div>\n",
              "\n",
              "    </div>\n",
              "  </div>\n"
            ],
            "application/vnd.google.colaboratory.intrinsic+json": {
              "type": "dataframe",
              "variable_name": "train_terms"
            }
          },
          "metadata": {},
          "execution_count": 9
        }
      ]
    },
    {
      "cell_type": "code",
      "source": [
        "train_terms_MFO=train_terms.loc[train_terms[\"aspect\"]==Sub_Ontology]\n",
        "#train_terms_MFO.term.value_counts()\n",
        "#Getting the unique terms\n",
        "uniqueTerms = train_terms_MFO[\"term\"].unique()\n",
        "termsArr = list(train_terms_MFO[\"term\"].to_numpy())\n",
        "\n",
        "unique_go={}\n",
        "for index,go in enumerate(uniqueTerms):\n",
        "  unique_go[index]=go\n",
        "\n",
        "#print(unique_go)\n",
        "\n",
        "train_terms_MFO.set_index('EntryID',inplace=True)\n",
        "#train_terms_MFO.head()\n",
        "\n",
        "print(train_terms_MFO.shape)"
      ],
      "metadata": {
        "colab": {
          "base_uri": "https://localhost:8080/"
        },
        "id": "vcgwnWsqn-w8",
        "outputId": "d2e2422e-4eb4-4bbc-ba40-155b569e1d5f"
      },
      "execution_count": null,
      "outputs": [
        {
          "output_type": "stream",
          "name": "stdout",
          "text": [
            "(670114, 2)\n"
          ]
        }
      ]
    },
    {
      "cell_type": "code",
      "source": [
        "testID = train_terms_MFO.index.to_list()[0]\n",
        "testID"
      ],
      "metadata": {
        "colab": {
          "base_uri": "https://localhost:8080/",
          "height": 35
        },
        "id": "FmqUQaNOq4mf",
        "outputId": "441baa4e-4e48-4bdb-fca7-2256397c547a"
      },
      "execution_count": null,
      "outputs": [
        {
          "output_type": "execute_result",
          "data": {
            "text/plain": [
              "'A0A009IHW8'"
            ],
            "application/vnd.google.colaboratory.intrinsic+json": {
              "type": "string"
            }
          },
          "metadata": {},
          "execution_count": 11
        }
      ]
    },
    {
      "cell_type": "markdown",
      "source": [
        "#Go Analysis"
      ],
      "metadata": {
        "id": "vkZ6qLq2rMgd"
      }
    },
    {
      "cell_type": "code",
      "source": [
        "item_counts = train_terms_MFO[\"term\"].value_counts()\n"
      ],
      "metadata": {
        "id": "GbHGnArXrRO9"
      },
      "execution_count": null,
      "outputs": []
    },
    {
      "cell_type": "code",
      "source": [
        "GO_Name = {}\n",
        "Name_GO={}\n",
        "\n",
        "for id, data in go_graph.nodes(data=True):\n",
        "  GO_Name[id]=data.get('name')\n",
        "\n"
      ],
      "metadata": {
        "id": "ByamPo90tA8z"
      },
      "execution_count": null,
      "outputs": []
    },
    {
      "cell_type": "markdown",
      "source": [
        "#Label encoding"
      ],
      "metadata": {
        "id": "jKoabkbWt6VU"
      }
    },
    {
      "cell_type": "code",
      "source": [
        "#Extract label weights from IA\n",
        "\n",
        "dfIA=pd.read_csv(\"IA.txt\", sep='\\t', header=None)\n",
        "#dfIA.head()\n",
        "\n",
        "dfIA.set_index(0, inplace=True)\n",
        "\n",
        "\n",
        "\n",
        "#Extracting GO terms\n",
        "#allGOs=dfIA[0].values.tolist()\n",
        "\n",
        "allGOs=dfIA.index.tolist()\n",
        "label_weights=[]\n",
        "\n",
        "notFound=0\n",
        "for go in item_counts.index.to_list():\n",
        "    if go in allGOs:\n",
        "        label_weights.append(dfIA.loc[go].to_numpy()[0])\n",
        "    else:\n",
        "        notFound += 1\n",
        "        label_weights.append(0)\n",
        "\n"
      ],
      "metadata": {
        "id": "V-NBWxqSt7wF"
      },
      "execution_count": null,
      "outputs": []
    },
    {
      "cell_type": "markdown",
      "source": [
        "Getting the top GO terms"
      ],
      "metadata": {
        "id": "NxTpyx-ZwKFh"
      }
    },
    {
      "cell_type": "code",
      "source": [
        "threshold=0\n",
        "\n",
        "frequent_GO_Terms=item_counts.index.to_list()\n",
        "\n",
        "frequent_GO_Terms=np.array(frequent_GO_Terms)[np.array(label_weights)>threshold]\n",
        "\n",
        "\n",
        "frequent_GO_Terms"
      ],
      "metadata": {
        "colab": {
          "base_uri": "https://localhost:8080/"
        },
        "id": "1koCQ4bevNQM",
        "outputId": "436fb031-f5ad-4201-e786-871f56db6802"
      },
      "execution_count": null,
      "outputs": [
        {
          "output_type": "execute_result",
          "data": {
            "text/plain": [
              "array(['GO:0005488', 'GO:0005515', 'GO:0003824', ..., 'GO:0097162',\n",
              "       'GO:0048472', 'GO:0102628'], dtype='<U10')"
            ]
          },
          "metadata": {},
          "execution_count": 16
        }
      ]
    },
    {
      "cell_type": "code",
      "source": [
        "# Define the path for saving/loading the GO data sizes\n",
        "dfGO=train_terms_MFO.copy(deep=True)\n",
        "dfGO.set_index(\"term\", inplace=True)\n",
        "\n",
        "\n",
        "file_path = os.path.join(train_root, f\"GODataSizes_{Sub_Ontology}.npy\")\n",
        "\n",
        "if os.path.exists(file_path):\n",
        "    print(\"Loading presaved data\")\n",
        "    GODataSizes = np.load(file_path)\n",
        "else:\n",
        "    # Assuming dfGo and topGOs are defined and contain relevant GO data\n",
        "    GODataSizes = [dfGO.loc[g].size for g in frequent_GO_Terms]  # Use frequent_GO_Terms instead of topGOs\n",
        "    np.save(file_path, GODataSizes)"
      ],
      "metadata": {
        "id": "6cApybR9Boxa",
        "colab": {
          "base_uri": "https://localhost:8080/"
        },
        "outputId": "2e95a57c-d1ed-476c-e384-b5f7b80bc56e"
      },
      "execution_count": null,
      "outputs": [
        {
          "output_type": "stream",
          "name": "stdout",
          "text": [
            "Loading presaved data\n"
          ]
        }
      ]
    },
    {
      "cell_type": "code",
      "source": [
        "#At least 10 samples\n",
        "print(np.count_nonzero(np.array(GODataSizes)>10))\n",
        "GODataSizes= np.array(GODataSizes)\n",
        "OptimalGOs = frequent_GO_Terms[GODataSizes>10]"
      ],
      "metadata": {
        "colab": {
          "base_uri": "https://localhost:8080/"
        },
        "id": "PJCtjeC6Df9L",
        "outputId": "d08ca273-895e-4c28-e993-c90e9b7895f7"
      },
      "execution_count": null,
      "outputs": [
        {
          "output_type": "stream",
          "name": "stdout",
          "text": [
            "2099\n"
          ]
        }
      ]
    },
    {
      "cell_type": "code",
      "source": [
        "import pickle"
      ],
      "metadata": {
        "id": "Y9X1DHnYDro6"
      },
      "execution_count": null,
      "outputs": []
    },
    {
      "cell_type": "code",
      "source": [
        "from sklearn.preprocessing import MultiLabelBinarizer\n",
        "\n",
        "mlb = MultiLabelBinarizer()\n",
        "mlb.fit([OptimalGOs])\n",
        "\n",
        "\n",
        "dftest=train_terms_MFO.loc[testID]\n",
        "indices = dftest[\"term\"].to_numpy()\n",
        "print(indices)\n",
        "print(mlb.transform([indices]))\n",
        "print(len(mlb.classes_))\n",
        "\n",
        "with open(os.path.join(train_root,'MLB_'+Sub_Ontology+'.pkl'), 'wb') as f:\n",
        "    pickle.dump(mlb, f)"
      ],
      "metadata": {
        "colab": {
          "base_uri": "https://localhost:8080/"
        },
        "id": "4s36sdj1CcAI",
        "outputId": "6d0a30c8-318c-4cf5-e1a1-71c3d67eded9"
      },
      "execution_count": null,
      "outputs": [
        {
          "output_type": "stream",
          "name": "stdout",
          "text": [
            "['GO:0003674' 'GO:0003953' 'GO:0016787' 'GO:0016799' 'GO:0016798'\n",
            " 'GO:0003824']\n",
            "[[0 0 0 ... 0 0 0]]\n",
            "2099\n"
          ]
        },
        {
          "output_type": "stream",
          "name": "stderr",
          "text": [
            "/usr/local/lib/python3.10/dist-packages/sklearn/preprocessing/_label.py:895: UserWarning: unknown class(es) ['GO:0003674'] will be ignored\n",
            "  warnings.warn(\n"
          ]
        }
      ]
    },
    {
      "cell_type": "markdown",
      "source": [
        "#Amino Acid Encoding"
      ],
      "metadata": {
        "id": "eDWVg60o7r1O"
      }
    },
    {
      "cell_type": "code",
      "source": [
        "amino_acid_enc = {'A': 1, 'B':24, 'C': 2, 'D': 3, 'E': 4, 'F': 5, 'G': 6, 'H': 7, 'I': 8, 'K': 9, 'L': 10, 'M': 11, 'N': 12, 'O': 21, 'P': 13, 'Q': 14, 'R': 15, 'S': 16, 'T': 17, 'U': 22, 'V': 18, 'W': 19, 'Y': 20, 'X':30, 'Z':23}\n"
      ],
      "metadata": {
        "id": "QV9WOuzi7umh"
      },
      "execution_count": null,
      "outputs": []
    },
    {
      "cell_type": "markdown",
      "source": [
        "Applying k-mer process"
      ],
      "metadata": {
        "id": "jBsB6o3l-r6r"
      }
    },
    {
      "cell_type": "code",
      "source": [
        "import warnings\n",
        "from itertools import product\n",
        "from tqdm import tqdm\n",
        "import random"
      ],
      "metadata": {
        "id": "BdLgWuw9-vrj"
      },
      "execution_count": null,
      "outputs": []
    },
    {
      "cell_type": "markdown",
      "source": [
        "1. **Amino Acid Encoding**:\n",
        "   - amino_acid_enc is a dictionary mapping each amino acid to a unique integer. This is used to numerically encode amino acids for machine learning models which cannot work directly with character data.\n",
        "\n",
        "2. **K-mer Length Definition**:\n",
        "   - k = 3 sets the length of the k-mers that will be generated. A k-mer is a substring of length k, which in this context, refers to a sequence of three amino acids.\n",
        "\n",
        "3. **Generating All Possible K-mers**:\n",
        "   - allAA = sorted(amino_acid_enc.keys()) creates a sorted list of all amino acids (characters).\n",
        "   - allCombinations is a NumPy array that holds all possible combinations of k-mers. It uses the product function from the itertools module (which seems to be imported elsewhere in the code) to generate every possible combination of the amino acids, repeating k times to create k-mers.\n",
        "\n",
        "4. **Mapping K-mers to Indices**:\n",
        "   - positionDict is a dictionary that maps each k-mer to a unique index. This could be used to transform amino acid sequences into fixed-length numerical vectors by replacing each k-mer in a sequence with its corresponding index.\n",
        "\n",
        "5. **Vectorizing the Mapping Function**:\n",
        "   - vectMapping uses np.vectorize to create a vectorized function that applies the amino_acid_enc mapping to each character in a sequence. This is used to convert entire sequences of amino acids into numerical form, one character at a time.\n",
        "\n",
        "6. **Shuffling the Data**:\n",
        "   - The data (presumably pairs of sequences and their associated IDs) is shuffled to ensure that the training and validation sets are randomly selected. This helps to prevent overfitting and ensure that the model generalizes well. A fixed seed (random.seed(20)) is used for reproducibility of results.\n",
        "\n",
        "7. **Training and Validation Split**:\n",
        "   - TRAIN_VAL_SPLIT = 0.7 defines the proportion of data to be used for training (70% in this case).\n",
        "   - split` calculates the index at which to split the shuffled list into training and validation sets based on the proportion defined.\n",
        "   - trainSeq, valSeq, trainIds, valIds are the resulting splits of the sequences and IDs, with the first 70% of the data going into the training set, and the remaining 30% going into the validation set.\n",
        "\n"
      ],
      "metadata": {
        "id": "jLh3aiJBd791"
      }
    },
    {
      "cell_type": "code",
      "source": [
        "# Assuming aa_dict, sequences, and ids are defined elsewhere\n",
        "k = 3  # Length of k-mer\n",
        "\n",
        "\n",
        "allAA = sorted(amino_acid_enc.keys())\n",
        "\n",
        "# Generate all combinations of k-mers and convert to numpy array for easy handling\n",
        "allCombinations = np.array([''.join(el) for el in product(allAA, repeat=k)])\n",
        "\n",
        "# Create a dictionary mapping each k-mer to its index\n",
        "positionDict = {kmer: index for index, kmer in enumerate(allCombinations)}\n",
        "\n",
        "# Vectorize the mapping function for faster processing\n",
        "vectMapping = np.vectorize(lambda x: amino_acid_enc[x])\n",
        "\n",
        "# Shuffle the data (sequences and ids) with a fixed seed for reproducibility\n",
        "random.seed(20)\n",
        "c = list(zip(sequences, ids))\n",
        "random.shuffle(c)\n",
        "sequencesShuffle, idsShuffle = zip(*c)\n",
        "\n",
        "# Calculate split index for training and validation sets\n",
        "TRAIN_VAL_SPLIT = 0.7\n",
        "split = int(np.floor(len(sequencesShuffle) * TRAIN_VAL_SPLIT))\n",
        "\n",
        "# Split the sequences and IDs into training and validation sets\n",
        "trainSeq = sequencesShuffle[:split]\n",
        "valSeq = sequencesShuffle[split:]\n",
        "trainIds = idsShuffle[:split]\n",
        "valIds = idsShuffle[split:]"
      ],
      "metadata": {
        "id": "E5som3r--yyx"
      },
      "execution_count": null,
      "outputs": []
    },
    {
      "cell_type": "markdown",
      "source": [
        "#One-Vs-Rest Logistic Classifier"
      ],
      "metadata": {
        "id": "OQx-klgiFvi_"
      }
    },
    {
      "cell_type": "code",
      "source": [
        "import numpy as np\n",
        "from tqdm import tqdm\n",
        "\n",
        "# Define the target GO term based on a specific index in mlb.classes_\n",
        "target = mlb.classes_[671]\n",
        "\n",
        "# Gather soEntryIds from the train_terms_MFO DataFrame\n",
        "soEntryIds = train_terms_MFO.index.tolist()\n",
        "\n",
        "def getKmers(seq, k, positionDict, allCombinations):\n",
        "    # Generate k-mers for the sequence\n",
        "    kmers = [seq[j:j+k] if j < len(seq)-(k-1) else '' for j in range(len(seq))]\n",
        "    kmers = kmers[:-(k-1)] if k > 1 else kmers\n",
        "    # Convert k-mers to string representation\n",
        "    kmers = [str(el) for el in kmers]\n",
        "    # Count the frequency of each unique k-mer\n",
        "    values, counts = np.unique(kmers, return_counts=True)\n",
        "    freqVector = np.zeros(allCombinations.shape[0])\n",
        "    # Map counts to the position in the frequency vector using positionDict\n",
        "    for v, count in zip(values, counts):\n",
        "        if v in positionDict:\n",
        "            freqVector[positionDict[v]] = count\n",
        "    return freqVector\n",
        "\n",
        "X = []\n",
        "y = []\n",
        "positiveClassCount = 0\n",
        "\n",
        "for i, seq in enumerate(tqdm(trainSeq)):\n",
        "    entryId = trainIds[i]\n",
        "    # Check if the entry ID is in soEntryIds and get associated terms\n",
        "    indices = train_terms_MFO.loc[entryId][\"term\"].to_numpy() if entryId in soEntryIds else []\n",
        "    # Determine if the target GO term is present and update X, y accordingly\n",
        "    if target in indices:\n",
        "        freqVector = getKmers(seq, k, positionDict, allCombinations)\n",
        "        X.append(freqVector)\n",
        "        y.append(1)\n",
        "        positiveClassCount += 1\n",
        "    elif 0.2 * len(y) < positiveClassCount:\n",
        "        freqVector = getKmers(seq, k, positionDict, allCombinations)\n",
        "        X.append(freqVector)\n",
        "        y.append(0)\n",
        "\n",
        "X = np.array(X)\n",
        "y = np.array(y)\n"
      ],
      "metadata": {
        "colab": {
          "base_uri": "https://localhost:8080/"
        },
        "id": "zcWeD7XrElpO",
        "outputId": "2aea5c7f-e54b-4f4e-8f20-9a7ba30d584b"
      },
      "execution_count": null,
      "outputs": [
        {
          "output_type": "stream",
          "name": "stderr",
          "text": [
            "100%|██████████| 99572/99572 [19:49<00:00, 83.69it/s] \n"
          ]
        }
      ]
    },
    {
      "cell_type": "code",
      "source": [
        "from tqdm import tqdm\n",
        "import numpy as np\n",
        "\n",
        "Xval = []\n",
        "yval = []\n",
        "positiveClassCountVal = 0\n",
        "\n",
        "for i, seq in enumerate(tqdm(valSeq)):\n",
        "    entryId = valIds[i]\n",
        "    # Use train_terms_MFO for lookup, ensure you have a similar structure for validation if needed\n",
        "    if entryId in soEntryIds:\n",
        "        labelData = train_terms_MFO.loc[entryId]\n",
        "        indices = labelData[\"term\"].to_numpy() if 'term' in labelData else []\n",
        "    else:\n",
        "        indices = []\n",
        "    # Check if target GO term is in the indices and append the sequence's k-mer frequency vector to Xval\n",
        "    if target in indices:\n",
        "        freqVector = getKmers(seq, k, positionDict, allCombinations)  # Make sure to pass necessary parameters\n",
        "        Xval.append(freqVector)\n",
        "        yval.append(1)\n",
        "        positiveClassCountVal += 1\n",
        "    # Balance the positive and negative samples in the validation set\n",
        "    elif len(yval) < 2 * positiveClassCountVal:\n",
        "        freqVector = getKmers(seq, k, positionDict, allCombinations)\n",
        "        Xval.append(freqVector)\n",
        "        yval.append(0)\n",
        "\n",
        "Xval = np.array(Xval)\n",
        "yval = np.array(yval)\n"
      ],
      "metadata": {
        "colab": {
          "base_uri": "https://localhost:8080/"
        },
        "id": "3DWfu6YfE3D1",
        "outputId": "105702c4-c0f2-4c40-f286-388aeb5ef918"
      },
      "execution_count": null,
      "outputs": [
        {
          "output_type": "stream",
          "name": "stderr",
          "text": [
            "100%|██████████| 42674/42674 [08:17<00:00, 85.74it/s] \n"
          ]
        }
      ]
    },
    {
      "cell_type": "code",
      "source": [
        "from sklearn.linear_model import LogisticRegression\n",
        "from sklearn import svm\n",
        "from sklearn.neural_network import MLPClassifier\n",
        "from sklearn.model_selection import train_test_split\n",
        "from sklearn import preprocessing\n",
        "from sklearn.pipeline import make_pipeline\n",
        "from sklearn.ensemble import AdaBoostClassifier\n",
        "\n",
        "#clf = LogisticRegression().fit(X, y)\n",
        "#clf = svm.SVC(probability=True).fit(X, y)\n",
        " #clf = MLPClassifier(solver='lbfgs', alpha=1e-5,hidden_layer_sizes=(4, 64)).fit(X, y)\n",
        "clf = make_pipeline(preprocessing.StandardScaler(), LogisticRegression(solver=\"liblinear\"))\n",
        "#clf = make_pipeline(preprocessing.StandardScaler(), AdaBoostClassifier(n_estimators=50))\n",
        "#clf = make_pipeline(preprocessing.StandardScaler(), MLPClassifier(solver='lbfgs', random_state=854, hidden_layer_sizes=(32,32,32)))\n",
        "\n",
        "clf.fit(X, y)\n",
        "# print(clf.predict(Xval))\n",
        "# print(clf.predict_proba(Xval))\n",
        "print(clf.score(Xval, yval))"
      ],
      "metadata": {
        "id": "msE_16HG_1ud",
        "colab": {
          "base_uri": "https://localhost:8080/"
        },
        "outputId": "fb68a0ac-bda8-41b2-c64d-dc3253da0d65"
      },
      "execution_count": null,
      "outputs": [
        {
          "output_type": "stream",
          "name": "stdout",
          "text": [
            "0.7941176470588235\n"
          ]
        }
      ]
    },
    {
      "cell_type": "code",
      "source": [
        "def ClassificationScores(yTrue, yPred):\n",
        "    tp = np.sum(np.logical_and(np.array(yTrue, dtype=\"bool\") , np.array(yPred, dtype=\"bool\")))\n",
        "    fn = np.sum(np.logical_and(np.logical_not(yTrue) , np.array(yPred, dtype=\"bool\")))\n",
        "    fp = np.sum(np.logical_and(np.array(yTrue, dtype=\"bool\") , np.logical_not(yPred)))\n",
        "    prec = (tp)/(tp+fp+1e-20)\n",
        "    rec = tp/(tp+fn+1e-20)\n",
        "    f1 = 2*(prec*rec)/(prec+rec+1e-20)\n",
        "    return prec, rec, f1"
      ],
      "metadata": {
        "id": "G6-KPNuo8Hhc"
      },
      "execution_count": null,
      "outputs": []
    },
    {
      "cell_type": "code",
      "source": [
        "ClassificationScores(yval, clf.predict(Xval))\n"
      ],
      "metadata": {
        "colab": {
          "base_uri": "https://localhost:8080/"
        },
        "id": "Nf_KXylU8KZH",
        "outputId": "217df835-6abb-4ed6-a3bc-5a03c3dcc365"
      },
      "execution_count": null,
      "outputs": [
        {
          "output_type": "execute_result",
          "data": {
            "text/plain": [
              "(0.8823529411764706, 0.75, 0.8108108108108107)"
            ]
          },
          "metadata": {},
          "execution_count": 53
        }
      ]
    },
    {
      "cell_type": "markdown",
      "source": [
        "Only LR gave better accuracies compared to others"
      ],
      "metadata": {
        "id": "Pfb7fHSDZvFP"
      }
    },
    {
      "cell_type": "code",
      "source": [],
      "metadata": {
        "id": "IQnrmdmnE04X"
      },
      "execution_count": null,
      "outputs": []
    }
  ]
}